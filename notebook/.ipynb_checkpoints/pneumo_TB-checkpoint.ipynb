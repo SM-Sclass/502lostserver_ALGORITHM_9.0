{
 "cells": [
  {
   "cell_type": "code",
   "execution_count": null,
   "id": "762643e0",
   "metadata": {
    "execution": {
     "iopub.execute_input": "2025-01-05T08:17:00.190591Z",
     "iopub.status.busy": "2025-01-05T08:17:00.190353Z",
     "iopub.status.idle": "2025-01-05T08:17:13.762479Z",
     "shell.execute_reply": "2025-01-05T08:17:13.761742Z"
    },
    "papermill": {
     "duration": 13.576847,
     "end_time": "2025-01-05T08:17:13.764029",
     "exception": false,
     "start_time": "2025-01-05T08:17:00.187182",
     "status": "completed"
    },
    "tags": []
   },
   "outputs": [],
   "source": [
    "#imports\n",
    "\n",
    "import torch\n",
    "import torch.optim as optim\n",
    "import torchvision.models as models\n",
    "from torch.utils.data import Dataset, DataLoader\n",
    "from torchvision import transforms\n",
    "from PIL import Image\n",
    "import pandas as pd\n",
    "import os\n",
    "import torch.nn as nn\n",
    "import time\n",
    "from torch.utils.tensorboard import SummaryWriter\n",
    "import numpy as np\n",
    "from sklearn.metrics import precision_score, rec8all_score, f1_score, accuracy_score, classification_report, confusion_matrix\n"
   ]
  },
  {
   "cell_type": "code",
   "execution_count": null,
   "id": "febbfad8",
   "metadata": {
    "execution": {
     "iopub.execute_input": "2025-01-05T08:17:13.770806Z",
     "iopub.status.busy": "2025-01-05T08:17:13.770357Z",
     "iopub.status.idle": "2025-01-05T08:17:44.798497Z",
     "shell.execute_reply": "2025-01-05T08:17:44.797575Z"
    },
    "papermill": {
     "duration": 31.034855,
     "end_time": "2025-01-05T08:17:44.801882",
     "exception": false,
     "start_time": "2025-01-05T08:17:13.767027",
     "status": "completed"
    },
    "tags": []
   },
   "outputs": [
    {
     "name": "stdout",
     "output_type": "stream",
     "text": [
      "Train set size: 13028, Validation set size: 761, Test set size: 1527\n"
     ]
    }
   ],
   "source": [
    "# Creating Dataset\n",
    "def create_dataset(folder_path):\n",
    "    my_list = []\n",
    "    for category in ['NORMAL', 'PNEUMONIA', 'UNKNOWN', 'TUBERCULOSIS']:\n",
    "        category_path = os.path.join(folder_path, category)\n",
    "        for file_name in os.listdir(category_path):\n",
    "            file_path = os.path.join(category_path, file_name)\n",
    "            # Ensure we're only adding image files\n",
    "            if os.path.isfile(file_path) and file_name.lower().endswith(('.png', '.jpg', '.jpeg', '.bmp')):\n",
    "                my_list.append([file_path, category])\n",
    "    return pd.DataFrame(my_list, columns=['file_path', 'label'])\n",
    "\n",
    "# Dataset paths\n",
    "dataset_dir = \"C:\\\\Users\\\\piyus\\\\Desktop\\\\datasets_for_anjuman\\\\data\"\n",
    "train_dir = os.path.join(dataset_dir, 'train')\n",
    "val_dir = os.path.join(dataset_dir, 'val')\n",
    "test_dir = os.path.join(dataset_dir, 'test')\n",
    "\n",
    "# Create DataFrames for train, validation, and test datasets\n",
    "train_df = create_dataset(train_dir)\n",
    "val_df = create_dataset(val_dir)\n",
    "test_df = create_dataset(test_dir)\n",
    "\n",
    "# Convert labels to numeric: NORMAL -> 0, PNEUMONIA -> 1, UNKNOWN -> 2, TUBERCULOSIS -> 3\n",
    "train_df['label'] = train_df['label'].map({'NORMAL': 0, 'PNEUMONIA': 1, 'UNKNOWN': 2 , 'TUBERCULOSIS': 3})\n",
    "val_df['label'] = val_df['label'].map({'NORMAL': 0, 'PNEUMONIA': 1, 'UNKNOWN': 2, 'TUBERCULOSIS': 3})\n",
    "test_df['label'] = test_df['label'].map({'NORMAL': 0, 'PNEUMONIA': 1, 'UNKNOWN': 2, 'TUBERCULOSIS': 3})\n",
    "\n",
    "# Print dataset sizes\n",
    "print(f\"Train set size: {len(train_df)}, Validation set size: {len(val_df)}, Test set size: {len(test_df)}\")\n"
   ]
  },
  {
   "cell_type": "code",
   "execution_count": 4,
   "id": "72fadb64",
   "metadata": {
    "execution": {
     "iopub.execute_input": "2025-01-05T08:17:44.808827Z",
     "iopub.status.busy": "2025-01-05T08:17:44.808574Z",
     "iopub.status.idle": "2025-01-05T08:17:44.823261Z",
     "shell.execute_reply": "2025-01-05T08:17:44.822615Z"
    },
    "papermill": {
     "duration": 0.019482,
     "end_time": "2025-01-05T08:17:44.824470",
     "exception": false,
     "start_time": "2025-01-05T08:17:44.804988",
     "status": "completed"
    },
    "tags": []
   },
   "outputs": [
    {
     "name": "stdout",
     "output_type": "stream",
     "text": [
      "Image Counts per Category:\n",
      "Train set:\n",
      "  NORMAL: 4667\n",
      "  PNEUMONIA: 3633\n",
      "  UNKNOWN: 1155\n",
      "  TUBERCULOSIS: 3573\n",
      "Validation set:\n",
      "  NORMAL: 274\n",
      "  PNEUMONIA: 213\n",
      "  UNKNOWN: 67\n",
      "  TUBERCULOSIS: 207\n",
      "Test set:\n",
      "  NORMAL: 548\n",
      "  PNEUMONIA: 427\n",
      "  UNKNOWN: 135\n",
      "  TUBERCULOSIS: 417\n"
     ]
    }
   ],
   "source": [
    "# Function to count categories in a given DataFrame\n",
    "def count_categories(df, dataset_name):\n",
    "    category_counts = df['label'].value_counts()\n",
    "    print(f\"{dataset_name} set:\")\n",
    "    print(f\"  NORMAL: {category_counts.get(0, 0)}\")  # NORMAL = 0\n",
    "    print(f\"  PNEUMONIA: {category_counts.get(1, 0)}\")  # PNEUMONIA = 1\n",
    "    print(f\"  UNKNOWN: {category_counts.get(2, 0)}\")  # UNKNOWN = 2 (added the UNKNOWN category)\n",
    "    print(f\"  TUBERCULOSIS: {category_counts.get(3, 0)}\")  # TUBERCULOSIS = 3\n",
    "\n",
    "# Count and display for train, validation, and test datasets\n",
    "print(\"Image Counts per Category:\")\n",
    "count_categories(train_df, \"Train\")\n",
    "count_categories(val_df, \"Validation\")\n",
    "count_categories(test_df, \"Test\")"
   ]
  },
  {
   "cell_type": "code",
   "execution_count": 5,
   "id": "c5d0a5db",
   "metadata": {
    "execution": {
     "iopub.execute_input": "2025-01-05T08:17:44.831201Z",
     "iopub.status.busy": "2025-01-05T08:17:44.830941Z",
     "iopub.status.idle": "2025-01-05T08:17:44.839133Z",
     "shell.execute_reply": "2025-01-05T08:17:44.838245Z"
    },
    "papermill": {
     "duration": 0.013053,
     "end_time": "2025-01-05T08:17:44.840401",
     "exception": false,
     "start_time": "2025-01-05T08:17:44.827348",
     "status": "completed"
    },
    "tags": []
   },
   "outputs": [
    {
     "name": "stdout",
     "output_type": "stream",
     "text": [
      "Training dataset size: 408\n",
      "Validation dataset size: 24\n"
     ]
    }
   ],
   "source": [
    "\n",
    "# Define Dataset class\n",
    "class ImageDataset(Dataset):\n",
    "    def __init__(self, dataframe, transform=None):\n",
    "        self.dataframe = dataframe\n",
    "        self.transform = transform\n",
    "\n",
    "    def __len__(self):\n",
    "        return len(self.dataframe)\n",
    "\n",
    "    def __getitem__(self, idx):\n",
    "        img_path = self.dataframe.iloc[idx, 0]  # Image path\n",
    "        label = self.dataframe.iloc[idx, 1]     # Image label (NORMAL, PNEUMONIA, UNKNOWN)\n",
    "        img = Image.open(img_path).convert('RGB')  # Convert the image to RGB if not already\n",
    "\n",
    "        if self.transform:\n",
    "            img = self.transform(img)\n",
    "\n",
    "        return img, label\n",
    "\n",
    "\n",
    "\n",
    "train_transform_resnet = transforms.Compose([\n",
    "    transforms.Resize((224, 224)),  # Resize to 224x224 for ResNet-18 input size\n",
    "    transforms.Grayscale(num_output_channels=3),  # Convert grayscale to RGB (3 channels)\n",
    "    transforms.RandomHorizontalFlip(),  # Random horizontal flip\n",
    "    transforms.RandomRotation(5),  # Slight rotation between -5 and +5 degrees\n",
    "    transforms.ToTensor(),  # Convert to tensor\n",
    "    transforms.Normalize(mean=[0.485, 0.456, 0.406], std=[0.229, 0.224, 0.225])  # Normalize for ResNet\n",
    "])\n",
    "\n",
    "\n",
    "val_transform_resnet = transforms.Compose([\n",
    "    transforms.Resize((224, 224)),\n",
    "    transforms.Grayscale(num_output_channels=3),  # Convert grayscale to RGB (3 channels)\n",
    "    transforms.ToTensor(),  \n",
    "    transforms.Normalize(mean=[0.485, 0.456, 0.406], std=[0.229, 0.224, 0.225])  # Normalize for ResNet\n",
    "])\n",
    "\n",
    "# Assuming train_df and val_df are already created with 'file_path' and 'label' columns\n",
    "train_dataset_resnet = ImageDataset(train_df, transform=train_transform_resnet)\n",
    "val_dataset_resnet = ImageDataset(val_df, transform=val_transform_resnet)\n",
    "\n",
    "# DataLoader - For training and validation datasets\n",
    "batch_size = 32\n",
    "\n",
    "train_loader_resnet = DataLoader(train_dataset_resnet, batch_size=batch_size, shuffle=True)\n",
    "val_loader_resnet = DataLoader(val_dataset_resnet, batch_size=batch_size, shuffle=False)\n",
    "\n",
    "# Optionally print dataset sizes\n",
    "print(f\"Training dataset size: {len(train_loader_resnet)}\")\n",
    "print(f\"Validation dataset size: {len(val_loader_resnet)}\")\n",
    "\n"
   ]
  },
  {
   "cell_type": "code",
   "execution_count": 6,
   "id": "a58ab288",
   "metadata": {
    "execution": {
     "iopub.execute_input": "2025-01-05T08:17:44.846679Z",
     "iopub.status.busy": "2025-01-05T08:17:44.846473Z",
     "iopub.status.idle": "2025-01-05T08:17:44.850350Z",
     "shell.execute_reply": "2025-01-05T08:17:44.849735Z"
    },
    "papermill": {
     "duration": 0.008361,
     "end_time": "2025-01-05T08:17:44.851557",
     "exception": false,
     "start_time": "2025-01-05T08:17:44.843196",
     "status": "completed"
    },
    "tags": []
   },
   "outputs": [],
   "source": [
    "\n",
    "# Function to prepare model for multi-GPU usage\n",
    "def prepare_model_for_multigpu(model):\n",
    "\n",
    "    device = torch.device(\"cuda\" if torch.cuda.is_available() else \"cpu\")\n",
    "    \n",
    "    if torch.cuda.is_available():\n",
    "        if torch.cuda.device_count() > 1:\n",
    "            print(f\"Using {torch.cuda.device_count()} GPUs!\")\n",
    "            model = nn.DataParallel(model)\n",
    "        model = model.to(device)\n",
    "    else:\n",
    "        print(\"CUDA is not available. Using CPU.\")\n",
    "        device = torch.device(\"cpu\")  # Fallback to CPU\n",
    "        model = model.to(device)\n",
    "    \n",
    "    return model"
   ]
  },
  {
   "cell_type": "code",
   "execution_count": 7,
   "id": "22dd4e55",
   "metadata": {
    "execution": {
     "iopub.execute_input": "2025-01-05T08:17:44.857991Z",
     "iopub.status.busy": "2025-01-05T08:17:44.857765Z",
     "iopub.status.idle": "2025-01-05T08:17:44.867445Z",
     "shell.execute_reply": "2025-01-05T08:17:44.866844Z"
    },
    "papermill": {
     "duration": 0.014389,
     "end_time": "2025-01-05T08:17:44.868711",
     "exception": false,
     "start_time": "2025-01-05T08:17:44.854322",
     "status": "completed"
    },
    "tags": []
   },
   "outputs": [],
   "source": [
    "\n",
    "# Training function with TensorBoard logging and history tracking\n",
    "def train_model_with_history_and_tensorboard(model, train_loader, val_loader, criterion, optimizer, num_epochs=30, device='cuda'):\n",
    "\n",
    "\n",
    "    # Initialize TensorBoard writer\n",
    "    writer = SummaryWriter(log_dir='tensorboard_logs')\n",
    "\n",
    "    # Track training and validation losses and accuracies\n",
    "    train_losses = []\n",
    "    val_losses = []\n",
    "    train_accuracies = []\n",
    "    val_accuracies = []\n",
    "\n",
    "    # Load model weights (if resuming from a pre-trained model)\n",
    "    if os.path.exists('model/model_29.pt'):\n",
    "        model.load_state_dict(torch.load('model/model_29.pt', map_location=device))\n",
    "        print(\"Model weights loaded successfully.\")\n",
    "    else:\n",
    "        print(\"No pre-trained weights found, starting from scratch.\")\n",
    "    \n",
    "    model_dir = 'model'\n",
    "    if not os.path.exists(model_dir):\n",
    "        os.makedirs(model_dir)\n",
    "\n",
    "    # Training loop for the specified number of epochs\n",
    "    for epoch in range(num_epochs):\n",
    "        start_epoch_time = time.time()  # Start time for the epoch\n",
    "\n",
    "        model.train()\n",
    "        running_loss = 0.0\n",
    "        correct = 0\n",
    "        total = 0\n",
    "\n",
    "        # Training loop\n",
    "        for images, labels in train_loader:\n",
    "            images, labels = images.to(device), labels.to(device)\n",
    "            \n",
    "            # Zero the parameter gradients\n",
    "            optimizer.zero_grad()\n",
    "\n",
    "            # Forward pass\n",
    "            outputs = model(images)\n",
    "            loss = criterion(outputs, labels)\n",
    "            \n",
    "            # Backward pass and optimize\n",
    "            loss.backward()\n",
    "            optimizer.step()\n",
    "\n",
    "            # Track running loss and accuracy\n",
    "            running_loss += loss.item()\n",
    "            _, predicted = torch.max(outputs.data, 1)\n",
    "            total += labels.size(0)\n",
    "            correct += (predicted == labels).sum().item()\n",
    "\n",
    "        # Calculate training loss and accuracy\n",
    "        train_loss = running_loss / len(train_loader)\n",
    "        train_accuracy = 100 * correct / total\n",
    "        train_losses.append(train_loss)\n",
    "        train_accuracies.append(train_accuracy)\n",
    "\n",
    "        # Start time for validation phase\n",
    "        start_val_time = time.time()\n",
    "\n",
    "        # Validation loop\n",
    "        model.eval()\n",
    "        val_loss = 0.0\n",
    "        val_correct = 0\n",
    "        val_total = 0\n",
    "        \n",
    "        with torch.no_grad():\n",
    "            for images, labels in val_loader:\n",
    "                images, labels = images.to(device), labels.to(device)\n",
    "                outputs = model(images)\n",
    "                loss = criterion(outputs, labels)\n",
    "                val_loss += loss.item()\n",
    "                _, predicted = torch.max(outputs.data, 1)\n",
    "                val_total += labels.size(0)\n",
    "                val_correct += (predicted == labels).sum().item()\n",
    "\n",
    "        # Calculate validation loss and accuracy\n",
    "        val_loss = val_loss / len(val_loader)\n",
    "        val_accuracy = 100 * val_correct / val_total\n",
    "        val_losses.append(val_loss)\n",
    "        val_accuracies.append(val_accuracy)\n",
    "\n",
    "        # End time for validation phase\n",
    "        end_val_time = time.time()\n",
    "        validation_time = end_val_time - start_val_time\n",
    "\n",
    "        # Calculate total time for the epoch\n",
    "        end_epoch_time = time.time()\n",
    "        epoch_time = end_epoch_time - start_epoch_time\n",
    "\n",
    "        # Print results for the epoch\n",
    "        print(f\"Epoch [{epoch+1}/{num_epochs}] \"\n",
    "                f\"Train Loss: {train_loss:.4f}, Train Acc: {train_accuracy:.2f}% | \"\n",
    "                f\"Val Loss: {val_loss:.4f}, Val Acc: {val_accuracy:.2f}% | \"\n",
    "                f\"Epoch Time: {epoch_time:.2f}s | Validation Time: {validation_time:.2f}s\")\n",
    "\n",
    "        # Log metrics to TensorBoard\n",
    "        writer.add_scalar('Loss/Train', train_loss, epoch)\n",
    "        writer.add_scalar('Loss/Validation', val_loss, epoch)\n",
    "        writer.add_scalar('Accuracy/Train', train_accuracy, epoch)\n",
    "        writer.add_scalar('Accuracy/Validation', val_accuracy, epoch)\n",
    "        writer.add_scalar('Time/Epoch', epoch_time, epoch)\n",
    "        writer.add_scalar('Time/Validation', validation_time, epoch)\n",
    "\n",
    "        if epoch == 24 :\n",
    "            # Save the model after every epoch (ensure the directory exists)\n",
    "            torch.save(model.state_dict(), f'{model_dir}/model_{epoch}.pt')\n",
    "            \n",
    "\n",
    "    # Close the TensorBoard writer\n",
    "    writer.close()\n",
    "\n",
    "    return train_losses, val_losses, train_accuracies, val_accuracies\n",
    "\n",
    "\n",
    "# Define the weighted CrossEntropy loss function\n",
    "criterion = nn.CrossEntropyLoss()\n"
   ]
  },
  {
   "cell_type": "code",
   "execution_count": 8,
   "id": "f87f1b32",
   "metadata": {
    "execution": {
     "iopub.execute_input": "2025-01-05T08:17:44.875162Z",
     "iopub.status.busy": "2025-01-05T08:17:44.874903Z",
     "iopub.status.idle": "2025-01-05T08:17:45.774031Z",
     "shell.execute_reply": "2025-01-05T08:17:45.773350Z"
    },
    "papermill": {
     "duration": 0.904141,
     "end_time": "2025-01-05T08:17:45.775675",
     "exception": false,
     "start_time": "2025-01-05T08:17:44.871534",
     "status": "completed"
    },
    "tags": []
   },
   "outputs": [
    {
     "name": "stderr",
     "output_type": "stream",
     "text": [
      "/usr/local/lib/python3.10/dist-packages/torchvision/models/_utils.py:208: UserWarning: The parameter 'pretrained' is deprecated since 0.13 and may be removed in the future, please use 'weights' instead.\n",
      "  warnings.warn(\n",
      "/usr/local/lib/python3.10/dist-packages/torchvision/models/_utils.py:223: UserWarning: Arguments other than a weight enum or `None` for 'weights' are deprecated since 0.13 and may be removed in the future. The current behavior is equivalent to passing `weights=ResNet18_Weights.IMAGENET1K_V1`. You can also use `weights=ResNet18_Weights.DEFAULT` to get the most up-to-date weights.\n",
      "  warnings.warn(msg)\n",
      "Downloading: \"https://download.pytorch.org/models/resnet18-f37072fd.pth\" to /root/.cache/torch/hub/checkpoints/resnet18-f37072fd.pth\n",
      "100%|██████████| 44.7M/44.7M [00:00<00:00, 170MB/s]\n"
     ]
    }
   ],
   "source": [
    "# Load pretrained ResNet-18 model\n",
    "resnet18 = models.resnet18(pretrained=True)\n",
    "resnet18.fc = nn.Linear(resnet18.fc.in_features, 4)  # Modify for binary classification\n",
    "resnet18 = prepare_model_for_multigpu(resnet18)  # Apply multi-GPU"
   ]
  },
  {
   "cell_type": "code",
   "execution_count": 9,
   "id": "3c2ead24",
   "metadata": {
    "execution": {
     "iopub.execute_input": "2025-01-05T08:17:45.783456Z",
     "iopub.status.busy": "2025-01-05T08:17:45.783201Z",
     "iopub.status.idle": "2025-01-05T08:23:49.190803Z",
     "shell.execute_reply": "2025-01-05T08:23:49.189880Z"
    },
    "papermill": {
     "duration": 363.415724,
     "end_time": "2025-01-05T08:23:49.195011",
     "exception": false,
     "start_time": "2025-01-05T08:17:45.779287",
     "status": "completed"
    },
    "tags": []
   },
   "outputs": [
    {
     "name": "stdout",
     "output_type": "stream",
     "text": [
      "Training Pretrained ResNet-18 Model...\n",
      "No pre-trained weights found, starting from scratch.\n",
      "Epoch [1/1] Train Loss: 0.1706, Train Acc: 93.57% | Val Loss: 0.0903, Val Acc: 96.85% | Epoch Time: 363.40s | Validation Time: 18.65s\n"
     ]
    }
   ],
   "source": [
    "# Define optimizer for ResNet-18\n",
    "optimizer_resnet = optim.Adam(resnet18.parameters(), lr=0.0001)\n",
    "\n",
    "# Train the Pretrained ResNet-18 Model\n",
    "print(\"Training Pretrained ResNet-18 Model...\")\n",
    "train_losses_resnet, val_losses_resnet, train_accuracies_resnet, val_accuracies_resnet = train_model_with_history_and_tensorboard(\n",
    "    resnet18, train_loader_resnet, val_loader_resnet, criterion, optimizer_resnet, num_epochs=1\n",
    ")\n"
   ]
  },
  {
   "cell_type": "code",
   "execution_count": 10,
   "id": "ae010d7a",
   "metadata": {
    "execution": {
     "iopub.execute_input": "2025-01-05T08:23:49.202491Z",
     "iopub.status.busy": "2025-01-05T08:23:49.202248Z",
     "iopub.status.idle": "2025-01-05T08:24:29.425602Z",
     "shell.execute_reply": "2025-01-05T08:24:29.424657Z"
    },
    "papermill": {
     "duration": 40.230697,
     "end_time": "2025-01-05T08:24:29.428996",
     "exception": false,
     "start_time": "2025-01-05T08:23:49.198299",
     "status": "completed"
    },
    "tags": []
   },
   "outputs": [
    {
     "name": "stderr",
     "output_type": "stream",
     "text": [
      "<ipython-input-10-51a6a2b8180f>:21: FutureWarning: You are using `torch.load` with `weights_only=False` (the current default value), which uses the default pickle module implicitly. It is possible to construct malicious pickle data which will execute arbitrary code during unpickling (See https://github.com/pytorch/pytorch/blob/main/SECURITY.md#untrusted-models for more details). In a future release, the default value for `weights_only` will be flipped to `True`. This limits the functions that could be executed during unpickling. Arbitrary objects will no longer be allowed to be loaded via this mode unless they are explicitly allowlisted by the user via `torch.serialization.add_safe_globals`. We recommend you start setting `weights_only=True` for any use case where you don't have full control of the loaded file. Please open an issue on GitHub for any issues related to this experimental feature.\n",
      "  model.load_state_dict(torch.load('/kaggle/input/pneumonia-and-tuberculosis-with-normal-and-non-x-ray/pytorch/default/1/model_24.pt'))\n"
     ]
    },
    {
     "name": "stdout",
     "output_type": "stream",
     "text": [
      "Classification Report:\n",
      "              precision    recall  f1-score   support\n",
      "\n",
      "      NORMAL     0.9853    0.9799    0.9826       548\n",
      "   PNEUMONIA     0.9791    0.9883    0.9837       427\n",
      "     UNKNOWN     1.0000    1.0000    1.0000       135\n",
      "TUBERCULOSIS     0.9952    0.9928    0.9940       417\n",
      "\n",
      "    accuracy                         0.9876      1527\n",
      "   macro avg     0.9899    0.9903    0.9901      1527\n",
      "weighted avg     0.9876    0.9876    0.9876      1527\n",
      "\n"
     ]
    },
    {
     "data": {
      "image/png": "[encoded data removed]",
      "text/plain": [
       "<Figure size 640x480 with 2 Axes>"
      ]
     },
     "metadata": {},
     "output_type": "display_data"
    },
    {
     "name": "stdout",
     "output_type": "stream",
     "text": [
      "Accuracy: 98.7557%\n"
     ]
    }
   ],
   "source": [
    "from sklearn.metrics import classification_report, confusion_matrix, ConfusionMatrixDisplay\n",
    "import matplotlib.pyplot as plt\n",
    "import numpy as np\n",
    "\n",
    "# Set device for computation\n",
    "device = torch.device(\"cuda\" if torch.cuda.is_available() else \"cpu\")\n",
    "\n",
    "# Define transformations\n",
    "transformations = transforms.Compose([\n",
    "    transforms.Resize((224, 224)),\n",
    "    transforms.Grayscale(num_output_channels=3),  # Convert grayscale to RGB (3 channels)\n",
    "    transforms.ToTensor(),\n",
    "    transforms.Normalize(mean=[0.485, 0.456, 0.406], std=[0.229, 0.224, 0.225])  # Normalize for ResNet\n",
    "])\n",
    "\n",
    "# Load the pretrained ResNet-18 model and modify for 4 classes\n",
    "model = models.resnet18(pretrained=True)\n",
    "model.fc = nn.Linear(model.fc.in_features, 4)  # Modify for 4-class classification\n",
    "\n",
    "# Load the trained model weights\n",
    "model.load_state_dict(torch.load('/kaggle/input/pneumonia-and-tuberculosis-with-normal-and-non-x-ray/pytorch/default/1/model_24.pt'))\n",
    "model.eval()\n",
    "model.to(device)\n",
    "\n",
    "# Define test dataset directorie867 \n",
    "test_dir = \"/kaggle/input/combined-unknown-pneumonia-and-tuberculosis/data/test\"\n",
    "categories = [\"NORMAL\", \"PNEUMONIA\", \"UNKNOWN\", \"TUBERCULOSIS\"]\n",
    "\n",
    "# Initialize variables to store results\n",
    "y_true = []  # Ground truth labels\n",
    "y_pred = []  # Predicted labels\n",
    "\n",
    "# Helper function to predict a single image\n",
    "def predict_image(image_path):\n",
    "    image = Image.open(image_path).convert(\"RGB\")\n",
    "    image = transformations(image)\n",
    "    image = image.to(device)\n",
    "    with torch.no_grad():\n",
    "        output = model(image.unsqueeze(0))\n",
    "        predicted_label = output.argmax(dim=1).item()  # Get the class with the highest score\n",
    "    return predicted_label\n",
    "\n",
    "# Evaluate each category\n",
    "for label, category in enumerate(categories):\n",
    "    category_dir = os.path.join(test_dir, category)\n",
    "    if not os.path.exists(category_dir):  # Check if directory exists\n",
    "        print(f\"Warning: Directory {category_dir} does not exist. Skipping...\")\n",
    "        continue\n",
    "\n",
    "    for image_name in os.listdir(category_dir):\n",
    "        if image_name.lower().endswith(('png', 'jpg', 'jpeg', '.bmp')):\n",
    "            image_path = os.path.join(category_dir, image_name)\n",
    "            y_true.append(label)  # Append ground truth label\n",
    "            y_pred.append(predict_image(image_path))\n",
    "\n",
    "# Convert results to NumPy arrays\n",
    "y_true = np.array(y_true)\n",
    "y_pred = np.array(y_pred)\n",
    "\n",
    "# Classification report\n",
    "report = classification_report(\n",
    "    y_true, \n",
    "    y_pred, \n",
    "    target_names=categories, \n",
    "    digits=4  # Set precision to 4 decimal places\n",
    ")\n",
    "print(\"Classification Report:\")\n",
    "print(report)\n",
    "\n",
    "# Confusion matrix\n",
    "cm = confusion_matrix(y_true, y_pred)\n",
    "\n",
    "# Plot confusion matrix\n",
    "disp = ConfusionMatrixDisplay(confusion_matrix=cm, display_labels=categories)\n",
    "disp.plot(cmap=plt.cm.Blues)\n",
    "plt.title(\"Confusion Matrix\")\n",
    "plt.show()\n",
    "\n",
    "# Calculate overall accuracy\n",
    "accuracy = np.mean(y_true == y_pred) * 100\n",
    "print(f\"Accuracy: {accuracy:.4f}%\")\n"
   ]
  }
 ],
 "metadata": {
  "kaggle": {
   "accelerator": "gpu",
   "dataSources": [
    {
     "datasetId": 6353528,
     "sourceId": 10269174,
     "sourceType": "datasetVersion"
    },
    {
     "isSourceIdPinned": true,
     "modelId": 209211,
     "modelInstanceId": 187125,
     "sourceId": 219421,
     "sourceType": "modelInstanceVersion"
    }
   ],
   "dockerImageVersionId": 30823,
   "isGpuEnabled": true,
   "isInternetEnabled": true,
   "language": "python",
   "sourceType": "notebook"
  },
  "kernelspec": {
   "display_name": "Python 3",
   "language": "python",
   "name": "python3"
  },
  "language_info": {
   "codemirror_mode": {
    "name": "ipython",
    "version": 3
   },
   "file_extension": ".py",
   "mimetype": "text/x-python",
   "name": "python",
   "nbconvert_exporter": "python",
   "pygments_lexer": "ipython3",
   "version": "3.10.11"
  },
  "papermill": {
   "default_parameters": {},
   "duration": 453.903546,
   "end_time": "2025-01-05T08:24:31.899553",
   "environment_variables": {},
   "exception": null,
   "input_path": "__notebook__.ipynb",
   "output_path": "__notebook__.ipynb",
   "parameters": {},
   "start_time": "2025-01-05T08:16:57.996007",
   "version": "2.6.0"
  }
 },
 "nbformat": 4,
 "nbformat_minor": 5
}
